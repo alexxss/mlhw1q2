{
 "cells": [
  {
   "cell_type": "code",
   "execution_count": 3,
   "metadata": {},
   "outputs": [],
   "source": [
    "# import stuff\n",
    "from sklearn.naive_bayes import GaussianNB\n",
    "import numpy as np"
   ]
  },
  {
   "cell_type": "code",
   "execution_count": 34,
   "metadata": {},
   "outputs": [],
   "source": [
    "#load dataset\n",
    "x_train_all = np.load('imdb/x_train.npy')\n",
    "x_test_all = np.load('imdb/x_test.npy')\n",
    "y_train = np.load('imdb/y_train.npy')\n",
    "y_test = np.load('imdb/y_test.npy')"
   ]
  },
  {
   "cell_type": "code",
   "execution_count": 31,
   "metadata": {},
   "outputs": [],
   "source": [
    "#function to obtain top-K\n",
    "#input: K,list to edit\n",
    "#return: new list of id lists where id<k\n",
    "def topk(k,x_all):\n",
    "    new_x = []\n",
    "    for x in x_all:\n",
    "        new_x.append([i for i in x if i<=k])            \n",
    "    \n",
    "    return new_x"
   ]
  },
  {
   "cell_type": "code",
   "execution_count": 35,
   "metadata": {},
   "outputs": [],
   "source": [
    "x_train = topk(100,x_train_all)\n",
    "x_test = topk(100,x_test_all)"
   ]
  },
  {
   "cell_type": "code",
   "execution_count": 36,
   "metadata": {},
   "outputs": [
    {
     "ename": "ValueError",
     "evalue": "Expected 2D array, got 1D array instead:\narray=[list([6, 3, 9, 30, 1, 55, 14, 46, 82, 41, 14, 58, 8, 1, 69, 5, 12, 6, 73, 5, 71, 6, 1, 5, 1, 34, 67, 64, 65, 1, 4, 1, 29, 69, 4, 1, 10, 2, 65, 51, 10, 1, 8, 60, 3, 5, 1, 10, 30, 3, 5, 28, 4, 5, 10, 12, 4, 58, 12, 6, 48, 3, 12, 9])\n list([39, 14, 44, 74, 32, 15, 18, 3, 5, 20, 1, 12, 68, 34, 36, 5, 39, 15, 1, 88, 81, 4, 1, 14, 40, 3, 41, 14, 1, 20, 5, 1, 39, 45, 27, 5, 53, 20, 1, 7, 7, 18, 48, 45, 22, 68, 3, 5, 20, 1, 15, 3, 1, 22, 66, 36, 3, 1, 3, 20, 1, 3, 2, 22, 5, 64, 48, 42, 37, 5, 27, 12, 6, 7, 7, 34, 34, 14, 3, 34, 44, 8, 1, 5, 94, 3, 16, 3, 5, 64, 45, 26, 67, 8, 1, 15, 1, 45, 26, 67, 78, 48, 26, 16, 3, 4, 50, 1, 20, 6, 20, 1, 16, 3, 20, 24, 5, 24, 26, 1, 1, 31, 3, 100, 42, 20, 24, 82, 3, 31, 1, 4, 32, 34, 38, 2, 38, 2, 34, 23, 5, 1, 21, 5, 37, 26, 51, 42, 39, 39, 27, 7, 7, 1, 2, 5, 10, 5, 27, 28, 4, 5, 3, 9, 3, 5, 24, 14, 39, 15, 1, 5, 48, 42, 37, 9, 1, 39, 20, 1, 82, 3, 37, 29, 81, 78, 51, 33, 89, 48, 5, 78, 16, 65, 33, 9, 5, 1, 4, 9, 37, 7, 7, 39, 11, 19, 77, 22, 5])\n list([31, 10, 25, 2, 8, 23, 5, 1, 20, 6, 3, 14, 49, 14, 8, 1, 20, 6, 79, 100, 4, 3, 43, 24, 2, 1, 4, 3, 26, 3, 36, 1, 6, 96, 14, 3, 34, 5, 1, 24, 6, 50, 71, 1, 2, 1, 1, 3, 23, 29, 55, 15, 1, 2, 1, 28, 11, 17, 55, 10, 64, 9, 60, 6])\n ...\n list([10, 30, 1, 19, 2, 9, 13, 28, 85, 1, 13, 1, 4, 8, 3, 17, 13, 2, 3, 21, 4, 4, 1, 10, 13, 5, 52, 5, 11, 17, 43, 58, 5, 1, 1, 44, 18, 1, 23, 1, 57, 6, 46, 59, 12, 42, 3, 4, 1, 8, 1, 12, 1, 4, 1, 3, 2, 29, 12, 18, 9, 40, 1, 17, 40, 37, 1, 9, 10, 18, 72, 5, 15, 38, 10, 21, 15, 3, 56, 13, 35, 29, 1, 93, 2, 10, 12, 1, 13, 70, 9, 6, 49, 18, 10, 12, 1, 30, 1, 35, 49, 35, 10, 43, 18, 30, 1, 4, 1, 17, 10, 37, 50, 1, 83, 8, 1, 6, 2, 29, 18, 10, 66, 1, 4, 3, 2, 50, 4, 1, 8, 1, 1, 8, 16, 1, 2, 1, 1, 54, 10, 40, 76, 80, 11, 17, 96, 75])\n list([46, 12, 22, 53, 15, 3, 43, 5, 27, 49, 4, 2, 17, 12, 68, 84, 18, 46, 1, 4, 65, 6, 37, 1, 7, 7, 1, 61, 10, 67, 41, 11, 19, 6, 12, 42, 14, 14, 1, 4, 82, 71, 12, 91, 3, 52, 19, 16, 1, 4, 3, 31, 3, 7, 7, 42, 74, 18, 22, 63, 78, 25, 5, 41, 3, 19, 12, 4, 1, 80, 91, 35, 31, 1, 55, 9, 5, 1, 9, 29, 7, 7, 75, 17, 77, 25, 3, 1, 2, 1, 4, 1, 1, 34, 13, 35, 75, 26, 94, 69, 3, 2, 5, 15, 8, 5, 1, 4, 31, 3, 35, 75, 9, 37, 10, 13, 46, 53, 4, 3, 7, 7, 29, 90, 37, 11, 51, 3, 4, 3, 18, 2, 8])\n list([11, 6, 28, 4, 1, 9, 4, 2, 5, 94, 3, 4, 95, 29, 7, 7, 21, 3, 49, 39, 8, 1, 45, 47, 13, 3, 9, 13, 32, 2, 14, 14, 49, 5, 35, 10, 86, 11, 4, 2, 21, 30, 46, 58, 11, 63, 6, 3, 4, 2, 9, 3, 91, 37, 11, 12, 44, 81, 1, 37, 3, 19, 30, 45, 22, 25, 9, 22, 55, 39, 89, 55, 11, 6])].\nReshape your data either using array.reshape(-1, 1) if your data has a single feature or array.reshape(1, -1) if it contains a single sample.",
     "output_type": "error",
     "traceback": [
      "\u001b[1;31m---------------------------------------------------------------------------\u001b[0m",
      "\u001b[1;31mValueError\u001b[0m                                Traceback (most recent call last)",
      "\u001b[1;32m<ipython-input-36-2e88e37a07e9>\u001b[0m in \u001b[0;36m<module>\u001b[1;34m()\u001b[0m\n\u001b[0;32m      1\u001b[0m \u001b[0mgnb\u001b[0m \u001b[1;33m=\u001b[0m \u001b[0mGaussianNB\u001b[0m\u001b[1;33m(\u001b[0m\u001b[1;33m)\u001b[0m\u001b[1;33m\u001b[0m\u001b[0m\n\u001b[1;32m----> 2\u001b[1;33m \u001b[0mgnb\u001b[0m\u001b[1;33m.\u001b[0m\u001b[0mfit\u001b[0m\u001b[1;33m(\u001b[0m\u001b[0mx_train\u001b[0m\u001b[1;33m,\u001b[0m\u001b[0my_train\u001b[0m\u001b[1;33m)\u001b[0m\u001b[1;33m\u001b[0m\u001b[0m\n\u001b[0m\u001b[0;32m      3\u001b[0m \u001b[0my_pred\u001b[0m \u001b[1;33m=\u001b[0m \u001b[0mgnb\u001b[0m\u001b[1;33m.\u001b[0m\u001b[0mpredict\u001b[0m\u001b[1;33m(\u001b[0m\u001b[0mx_test\u001b[0m\u001b[1;33m)\u001b[0m\u001b[1;33m\u001b[0m\u001b[0m\n\u001b[0;32m      4\u001b[0m \u001b[0mprint\u001b[0m\u001b[1;33m(\u001b[0m\u001b[1;33m(\u001b[0m\u001b[0my\u001b[0m\u001b[1;33m.\u001b[0m\u001b[0mpred\u001b[0m \u001b[1;33m!=\u001b[0m \u001b[0my\u001b[0m\u001b[1;33m.\u001b[0m\u001b[0mtest\u001b[0m\u001b[1;33m)\u001b[0m\u001b[1;33m.\u001b[0m\u001b[0msum\u001b[0m\u001b[1;33m(\u001b[0m\u001b[1;33m)\u001b[0m\u001b[1;33m)\u001b[0m\u001b[1;33m\u001b[0m\u001b[0m\n",
      "\u001b[1;32mD:\\Anaconda3\\lib\\site-packages\\sklearn\\naive_bayes.py\u001b[0m in \u001b[0;36mfit\u001b[1;34m(self, X, y, sample_weight)\u001b[0m\n\u001b[0;32m    181\u001b[0m             \u001b[0mReturns\u001b[0m \u001b[0mself\u001b[0m\u001b[1;33m.\u001b[0m\u001b[1;33m\u001b[0m\u001b[0m\n\u001b[0;32m    182\u001b[0m         \"\"\"\n\u001b[1;32m--> 183\u001b[1;33m         \u001b[0mX\u001b[0m\u001b[1;33m,\u001b[0m \u001b[0my\u001b[0m \u001b[1;33m=\u001b[0m \u001b[0mcheck_X_y\u001b[0m\u001b[1;33m(\u001b[0m\u001b[0mX\u001b[0m\u001b[1;33m,\u001b[0m \u001b[0my\u001b[0m\u001b[1;33m)\u001b[0m\u001b[1;33m\u001b[0m\u001b[0m\n\u001b[0m\u001b[0;32m    184\u001b[0m         return self._partial_fit(X, y, np.unique(y), _refit=True,\n\u001b[0;32m    185\u001b[0m                                  sample_weight=sample_weight)\n",
      "\u001b[1;32mD:\\Anaconda3\\lib\\site-packages\\sklearn\\utils\\validation.py\u001b[0m in \u001b[0;36mcheck_X_y\u001b[1;34m(X, y, accept_sparse, dtype, order, copy, force_all_finite, ensure_2d, allow_nd, multi_output, ensure_min_samples, ensure_min_features, y_numeric, warn_on_dtype, estimator)\u001b[0m\n\u001b[0;32m    571\u001b[0m     X = check_array(X, accept_sparse, dtype, order, copy, force_all_finite,\n\u001b[0;32m    572\u001b[0m                     \u001b[0mensure_2d\u001b[0m\u001b[1;33m,\u001b[0m \u001b[0mallow_nd\u001b[0m\u001b[1;33m,\u001b[0m \u001b[0mensure_min_samples\u001b[0m\u001b[1;33m,\u001b[0m\u001b[1;33m\u001b[0m\u001b[0m\n\u001b[1;32m--> 573\u001b[1;33m                     ensure_min_features, warn_on_dtype, estimator)\n\u001b[0m\u001b[0;32m    574\u001b[0m     \u001b[1;32mif\u001b[0m \u001b[0mmulti_output\u001b[0m\u001b[1;33m:\u001b[0m\u001b[1;33m\u001b[0m\u001b[0m\n\u001b[0;32m    575\u001b[0m         y = check_array(y, 'csr', force_all_finite=True, ensure_2d=False,\n",
      "\u001b[1;32mD:\\Anaconda3\\lib\\site-packages\\sklearn\\utils\\validation.py\u001b[0m in \u001b[0;36mcheck_array\u001b[1;34m(array, accept_sparse, dtype, order, copy, force_all_finite, ensure_2d, allow_nd, ensure_min_samples, ensure_min_features, warn_on_dtype, estimator)\u001b[0m\n\u001b[0;32m    439\u001b[0m                     \u001b[1;34m\"Reshape your data either using array.reshape(-1, 1) if \"\u001b[0m\u001b[1;33m\u001b[0m\u001b[0m\n\u001b[0;32m    440\u001b[0m                     \u001b[1;34m\"your data has a single feature or array.reshape(1, -1) \"\u001b[0m\u001b[1;33m\u001b[0m\u001b[0m\n\u001b[1;32m--> 441\u001b[1;33m                     \"if it contains a single sample.\".format(array))\n\u001b[0m\u001b[0;32m    442\u001b[0m             \u001b[0marray\u001b[0m \u001b[1;33m=\u001b[0m \u001b[0mnp\u001b[0m\u001b[1;33m.\u001b[0m\u001b[0matleast_2d\u001b[0m\u001b[1;33m(\u001b[0m\u001b[0marray\u001b[0m\u001b[1;33m)\u001b[0m\u001b[1;33m\u001b[0m\u001b[0m\n\u001b[0;32m    443\u001b[0m             \u001b[1;31m# To ensure that array flags are maintained\u001b[0m\u001b[1;33m\u001b[0m\u001b[1;33m\u001b[0m\u001b[0m\n",
      "\u001b[1;31mValueError\u001b[0m: Expected 2D array, got 1D array instead:\narray=[list([6, 3, 9, 30, 1, 55, 14, 46, 82, 41, 14, 58, 8, 1, 69, 5, 12, 6, 73, 5, 71, 6, 1, 5, 1, 34, 67, 64, 65, 1, 4, 1, 29, 69, 4, 1, 10, 2, 65, 51, 10, 1, 8, 60, 3, 5, 1, 10, 30, 3, 5, 28, 4, 5, 10, 12, 4, 58, 12, 6, 48, 3, 12, 9])\n list([39, 14, 44, 74, 32, 15, 18, 3, 5, 20, 1, 12, 68, 34, 36, 5, 39, 15, 1, 88, 81, 4, 1, 14, 40, 3, 41, 14, 1, 20, 5, 1, 39, 45, 27, 5, 53, 20, 1, 7, 7, 18, 48, 45, 22, 68, 3, 5, 20, 1, 15, 3, 1, 22, 66, 36, 3, 1, 3, 20, 1, 3, 2, 22, 5, 64, 48, 42, 37, 5, 27, 12, 6, 7, 7, 34, 34, 14, 3, 34, 44, 8, 1, 5, 94, 3, 16, 3, 5, 64, 45, 26, 67, 8, 1, 15, 1, 45, 26, 67, 78, 48, 26, 16, 3, 4, 50, 1, 20, 6, 20, 1, 16, 3, 20, 24, 5, 24, 26, 1, 1, 31, 3, 100, 42, 20, 24, 82, 3, 31, 1, 4, 32, 34, 38, 2, 38, 2, 34, 23, 5, 1, 21, 5, 37, 26, 51, 42, 39, 39, 27, 7, 7, 1, 2, 5, 10, 5, 27, 28, 4, 5, 3, 9, 3, 5, 24, 14, 39, 15, 1, 5, 48, 42, 37, 9, 1, 39, 20, 1, 82, 3, 37, 29, 81, 78, 51, 33, 89, 48, 5, 78, 16, 65, 33, 9, 5, 1, 4, 9, 37, 7, 7, 39, 11, 19, 77, 22, 5])\n list([31, 10, 25, 2, 8, 23, 5, 1, 20, 6, 3, 14, 49, 14, 8, 1, 20, 6, 79, 100, 4, 3, 43, 24, 2, 1, 4, 3, 26, 3, 36, 1, 6, 96, 14, 3, 34, 5, 1, 24, 6, 50, 71, 1, 2, 1, 1, 3, 23, 29, 55, 15, 1, 2, 1, 28, 11, 17, 55, 10, 64, 9, 60, 6])\n ...\n list([10, 30, 1, 19, 2, 9, 13, 28, 85, 1, 13, 1, 4, 8, 3, 17, 13, 2, 3, 21, 4, 4, 1, 10, 13, 5, 52, 5, 11, 17, 43, 58, 5, 1, 1, 44, 18, 1, 23, 1, 57, 6, 46, 59, 12, 42, 3, 4, 1, 8, 1, 12, 1, 4, 1, 3, 2, 29, 12, 18, 9, 40, 1, 17, 40, 37, 1, 9, 10, 18, 72, 5, 15, 38, 10, 21, 15, 3, 56, 13, 35, 29, 1, 93, 2, 10, 12, 1, 13, 70, 9, 6, 49, 18, 10, 12, 1, 30, 1, 35, 49, 35, 10, 43, 18, 30, 1, 4, 1, 17, 10, 37, 50, 1, 83, 8, 1, 6, 2, 29, 18, 10, 66, 1, 4, 3, 2, 50, 4, 1, 8, 1, 1, 8, 16, 1, 2, 1, 1, 54, 10, 40, 76, 80, 11, 17, 96, 75])\n list([46, 12, 22, 53, 15, 3, 43, 5, 27, 49, 4, 2, 17, 12, 68, 84, 18, 46, 1, 4, 65, 6, 37, 1, 7, 7, 1, 61, 10, 67, 41, 11, 19, 6, 12, 42, 14, 14, 1, 4, 82, 71, 12, 91, 3, 52, 19, 16, 1, 4, 3, 31, 3, 7, 7, 42, 74, 18, 22, 63, 78, 25, 5, 41, 3, 19, 12, 4, 1, 80, 91, 35, 31, 1, 55, 9, 5, 1, 9, 29, 7, 7, 75, 17, 77, 25, 3, 1, 2, 1, 4, 1, 1, 34, 13, 35, 75, 26, 94, 69, 3, 2, 5, 15, 8, 5, 1, 4, 31, 3, 35, 75, 9, 37, 10, 13, 46, 53, 4, 3, 7, 7, 29, 90, 37, 11, 51, 3, 4, 3, 18, 2, 8])\n list([11, 6, 28, 4, 1, 9, 4, 2, 5, 94, 3, 4, 95, 29, 7, 7, 21, 3, 49, 39, 8, 1, 45, 47, 13, 3, 9, 13, 32, 2, 14, 14, 49, 5, 35, 10, 86, 11, 4, 2, 21, 30, 46, 58, 11, 63, 6, 3, 4, 2, 9, 3, 91, 37, 11, 12, 44, 81, 1, 37, 3, 19, 30, 45, 22, 25, 9, 22, 55, 39, 89, 55, 11, 6])].\nReshape your data either using array.reshape(-1, 1) if your data has a single feature or array.reshape(1, -1) if it contains a single sample."
     ]
    }
   ],
   "source": [
    "gnb = GaussianNB()\n",
    "gnb.fit(x_train,y_train)\n",
    "y_pred = gnb.predict(x_test)\n",
    "print((y.pred != y.test).sum())"
   ]
  },
  {
   "cell_type": "code",
   "execution_count": null,
   "metadata": {},
   "outputs": [],
   "source": []
  }
 ],
 "metadata": {
  "kernelspec": {
   "display_name": "Python 3",
   "language": "python",
   "name": "python3"
  },
  "language_info": {
   "codemirror_mode": {
    "name": "ipython",
    "version": 3
   },
   "file_extension": ".py",
   "mimetype": "text/x-python",
   "name": "python",
   "nbconvert_exporter": "python",
   "pygments_lexer": "ipython3",
   "version": "3.6.5"
  }
 },
 "nbformat": 4,
 "nbformat_minor": 2
}
