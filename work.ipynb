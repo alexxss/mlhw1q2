{
 "cells": [
  {
   "cell_type": "code",
   "execution_count": 3,
   "metadata": {},
   "outputs": [],
   "source": [
    "# import stuff\n",
    "from sklearn.naive_bayes import GaussianNB\n",
    "import numpy as np"
   ]
  },
  {
   "cell_type": "code",
   "execution_count": 164,
   "metadata": {},
   "outputs": [],
   "source": [
    "#load dataset\n",
    "x_train_all = np.load('imdb/x_train.npy')\n",
    "x_test_all = np.load('imdb/x_test.npy')\n",
    "y_train = np.load('imdb/y_train.npy')\n",
    "y_test = np.load('imdb/y_test.npy')"
   ]
  },
  {
   "cell_type": "code",
   "execution_count": 190,
   "metadata": {},
   "outputs": [],
   "source": [
    "#function to obtain top-K\n",
    "#input: K,list to edit\n",
    "#return: new list of id lists where id<k\n",
    "def topk(k,x_all):\n",
    "    new_x = []\n",
    "    \n",
    "    f=[]\n",
    "    for x in x_all[-2:]: #!!!!!!!!!! REMOVE [-2:] !!!!!!\n",
    "        f.clear()\n",
    "        for f_org in x:\n",
    "            if f_org <= k:\n",
    "                f.append(f_org)\n",
    "    \n",
    "        new_x.append(f)\n",
    "    print(new_x)\n",
    "    return np.array(new_x)"
   ]
  },
  {
   "cell_type": "code",
   "execution_count": 197,
   "metadata": {},
   "outputs": [],
   "source": [
    "#function to obtain top-K\n",
    "#input: K,list to edit\n",
    "#return: new list of id lists where id<k\n",
    "def topk(k,x_all):\n",
    "    new_x = []\n",
    "        \n",
    "    for row in x_all:\n",
    "        new_row = row\n",
    "        for x in new_row:\n",
    "            if x > k:\n",
    "                new_row.remove(x)\n",
    "        print(new_row)\n",
    "        new_x.append(new_row)\n",
    "    \n",
    "    return np.array(new_x)"
   ]
  },
  {
   "cell_type": "code",
   "execution_count": 202,
   "metadata": {
    "collapsed": true
   },
   "outputs": [
    {
     "name": "stdout",
     "output_type": "stream",
     "text": [
      "[1, 'a', 3]\n"
     ]
    }
   ],
   "source": [
    "abc = [1,'a',3,2]\n",
    "c = abc\n",
    "c.remove(2)\n",
    "print(c)"
   ]
  },
  {
   "cell_type": "code",
   "execution_count": 208,
   "metadata": {},
   "outputs": [
    {
     "name": "stdout",
     "output_type": "stream",
     "text": [
      "[1, 2]\n",
      "[2]\n",
      "[list([1, 2]) list([2])]\n"
     ]
    }
   ],
   "source": [
    "x_train = [[1,2,3],[2,6,]]\n",
    "#x_train = np.load('imdb/x_train.npy')\n",
    "x_train = topk(2,x_train)\n",
    "\n",
    "print(x_train)"
   ]
  },
  {
   "cell_type": "code",
   "execution_count": 124,
   "metadata": {},
   "outputs": [],
   "source": [
    "def GaussianNaiveBayes():\n",
    "    gnb = GaussianNB()\n",
    "    gnb.fit(x_train,y_train)\n",
    "    y_pred = gnb.predict(x_train)\n",
    "    print((y_pred != y_train).sum())"
   ]
  },
  {
   "cell_type": "code",
   "execution_count": 119,
   "metadata": {},
   "outputs": [],
   "source": [
    "for k in [100,1000,10000]:\n",
    "    x_train = topk(k,x_train_all)\n",
    "    x_test = topk(k,x_test_all)\n",
    "    GaussianNaiveBayes()"
   ]
  }
 ],
 "metadata": {
  "kernelspec": {
   "display_name": "Python 3",
   "language": "python",
   "name": "python3"
  },
  "language_info": {
   "codemirror_mode": {
    "name": "ipython",
    "version": 3
   },
   "file_extension": ".py",
   "mimetype": "text/x-python",
   "name": "python",
   "nbconvert_exporter": "python",
   "pygments_lexer": "ipython3",
   "version": "3.6.5"
  }
 },
 "nbformat": 4,
 "nbformat_minor": 2
}
