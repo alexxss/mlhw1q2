{
 "cells": [
  {
   "cell_type": "code",
   "execution_count": 1,
   "metadata": {
    "collapsed": true
   },
   "outputs": [],
   "source": [
    "# import stuff\n",
    "from sklearn.naive_bayes import GaussianNB\n",
    "from sklearn.metrics import accuracy_score, precision_score, recall_score\n",
    "from nltk import FreqDist\n",
    "import numpy as np"
   ]
  },
  {
   "cell_type": "code",
   "execution_count": 2,
   "metadata": {
    "collapsed": true
   },
   "outputs": [],
   "source": [
    "#load dataset\n",
    "x_train_all = np.load('imdb/x_train.npy')\n",
    "x_test_all = np.load('imdb/x_test.npy')\n",
    "y_train = np.load('imdb/y_train.npy')\n",
    "y_test = np.load('imdb/y_test.npy')"
   ]
  },
  {
   "cell_type": "code",
   "execution_count": 3,
   "metadata": {
    "collapsed": true
   },
   "outputs": [],
   "source": [
    "# function to calc freqdist\n",
    "\n",
    "def freqdist(x_all):\n",
    "    for row in x_all:\n",
    "        row.sort()\n",
    "        \n",
    "    fdist = [FreqDist(row) for row in x_all]\n",
    "    \n",
    "    return fdist"
   ]
  },
  {
   "cell_type": "code",
   "execution_count": 4,
   "metadata": {
    "collapsed": true
   },
   "outputs": [],
   "source": [
    "#function to obtain top-K\n",
    "\n",
    "def topk(k,fdistx):\n",
    "    new_fdx = []\n",
    "    \n",
    "    for freqdist in fdistx:\n",
    "        new_fdx.append([freqdist[i] for i in range(1,k+1)])  \n",
    "    \n",
    "    return np.array(new_fdx)\n"
   ]
  },
  {
   "cell_type": "code",
   "execution_count": 5,
   "metadata": {
    "collapsed": true
   },
   "outputs": [],
   "source": [
    "def GaussianNaiveBayes():\n",
    "    gnb = GaussianNB()\n",
    "    gnb.fit(x_train,y_train)\n",
    "    y_pred = gnb.predict(x_test)\n",
    "    #print((y_pred != y_test).sum())\n",
    "    accuracy = accuracy_score(y_test,y_pred)\n",
    "    precision = precision_score(y_test,y_pred) \n",
    "    recall = recall_score(y_test,y_pred) \n",
    "    \n",
    "    return accuracy,precision,recall"
   ]
  },
  {
   "cell_type": "code",
   "execution_count": null,
   "metadata": {},
   "outputs": [
    {
     "name": "stdout",
     "output_type": "stream",
     "text": [
      "Calculating freqdist of x_train & x_test...done.\n",
      "~~~~~~~~~~  K = 100  ~~~~~~~~~~\n",
      "Obtaining frequency of top-100 words in x_train\n"
     ]
    },
    {
     "name": "stderr",
     "output_type": "stream",
     "text": [
      "100%|█████████████████████████████████████████████████████████████████████████| 25000/25000 [00:00<00:00, 46512.61it/s]\n"
     ]
    },
    {
     "name": "stdout",
     "output_type": "stream",
     "text": [
      "Obtaining frequency of top-100 words in x_test\n"
     ]
    },
    {
     "name": "stderr",
     "output_type": "stream",
     "text": [
      "100%|█████████████████████████████████████████████████████████████████████████| 25000/25000 [00:00<00:00, 52933.95it/s]\n"
     ]
    },
    {
     "name": "stdout",
     "output_type": "stream",
     "text": [
      "Training gnb model...done.\n",
      "Accuracy = 0.69, Precision = 0.71, Recall = 0.66\n",
      "\n",
      "~~~~~~~~~~  K = 1000  ~~~~~~~~~~\n",
      "Obtaining frequency of top-1000 words in x_train\n"
     ]
    },
    {
     "name": "stderr",
     "output_type": "stream",
     "text": [
      "100%|██████████████████████████████████████████████████████████████████████████| 25000/25000 [00:05<00:00, 4378.90it/s]\n"
     ]
    },
    {
     "name": "stdout",
     "output_type": "stream",
     "text": [
      "Obtaining frequency of top-1000 words in x_test\n"
     ]
    },
    {
     "name": "stderr",
     "output_type": "stream",
     "text": [
      "100%|██████████████████████████████████████████████████████████████████████████| 25000/25000 [00:05<00:00, 4182.05it/s]\n"
     ]
    },
    {
     "name": "stdout",
     "output_type": "stream",
     "text": [
      "Training gnb model...done.\n",
      "Accuracy = 0.81, Precision = 0.82, Recall = 0.79\n",
      "\n",
      "~~~~~~~~~~  K = 10000  ~~~~~~~~~~\n",
      "Obtaining frequency of top-10000 words in x_train\n"
     ]
    },
    {
     "name": "stderr",
     "output_type": "stream",
     "text": [
      "100%|███████████████████████████████████████████████████████████████████████████| 25000/25000 [00:59<00:00, 422.48it/s]\n"
     ]
    },
    {
     "name": "stdout",
     "output_type": "stream",
     "text": [
      "Obtaining frequency of top-10000 words in x_test\n"
     ]
    },
    {
     "name": "stderr",
     "output_type": "stream",
     "text": [
      "100%|███████████████████████████████████████████████████████████████████████████| 25000/25000 [01:03<00:00, 395.20it/s]\n"
     ]
    },
    {
     "name": "stdout",
     "output_type": "stream",
     "text": [
      "Training gnb model...done.\n",
      "Accuracy = 0.66, Precision = 0.77, Recall = 0.46\n",
      "\n"
     ]
    }
   ],
   "source": [
    "print('Calculating freqdist of x_train & x_test...',end='')\n",
    "fd_xtrain = freqdist(x_train_all)\n",
    "fd_xtest = freqdist(x_test_all)\n",
    "print('done.')\n",
    "\n",
    "for k in [100,1000,10000]: \n",
    "\n",
    "    print('~' * 10, ' K = %d '% k, '~' * 10)\n",
    "    \n",
    "    print('Obtaining frequency of top-%d words in x_train...' % k, end='')\n",
    "    x_train = topk(k,fd_xtrain)\n",
    "    print('done.')\n",
    "    \n",
    "    print('Obtaining frequency of top-%d words in x_test...' % k,end='')    \n",
    "    x_test = topk(k,fd_xtest)\n",
    "    print('done.')\n",
    "    \n",
    "    print('Training gnb model...',end='')\n",
    "    accuracy,precision,recall = GaussianNaiveBayes()\n",
    "    print('done.')\n",
    "    print('Accuracy = %.5f, Precision = %.5f, Recall = %.5f\\n' % (accuracy,precision,recall))\n",
    "    \n",
    "input('Press any key to exit.')"
   ]
  }
 ],
 "metadata": {
  "kernelspec": {
   "display_name": "Python 3",
   "language": "python",
   "name": "python3"
  },
  "language_info": {
   "codemirror_mode": {
    "name": "ipython",
    "version": 3
   },
   "file_extension": ".py",
   "mimetype": "text/x-python",
   "name": "python",
   "nbconvert_exporter": "python",
   "pygments_lexer": "ipython3",
   "version": "3.6.1"
  }
 },
 "nbformat": 4,
 "nbformat_minor": 2
}
